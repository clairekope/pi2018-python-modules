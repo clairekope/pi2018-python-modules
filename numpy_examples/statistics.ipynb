{
 "cells": [
  {
   "cell_type": "markdown",
   "metadata": {},
   "source": [
    "# Getting statistical information from arrays"
   ]
  },
  {
   "cell_type": "markdown",
   "metadata": {},
   "source": [
    "There are many functions in NumPy that respond the same way to function arguments:\n",
    "- `np.sum` adds array elements\n",
    "- `np.prod` multiplies array elements\n",
    "- `np.mean` calculates the arithmetic mean\n",
    "- `np.average` can gives you a weighted average. If no weights are supplied, which is the default, it behaves just like np.mean\n",
    "- `np.median` calculates the median\n",
    "- `np.std` gives the standard deviation\n",
    "- `np.var` calculates the variance\n",
    "\n",
    "We will introduce their behavior using `np.sum`."
   ]
  },
  {
   "cell_type": "code",
   "execution_count": 1,
   "metadata": {},
   "outputs": [
    {
     "name": "stdout",
     "output_type": "stream",
     "text": [
      "[[0 1 2]\n",
      " [3 4 5]\n",
      " [6 7 8]]\n"
     ]
    }
   ],
   "source": [
    "# Make some data\n",
    "data_2D = np.arange(9).reshape(3,3)\n",
    "print(data_2D)"
   ]
  },
  {
   "cell_type": "code",
   "execution_count": 2,
   "metadata": {},
   "outputs": [
    {
     "name": "stdout",
     "output_type": "stream",
     "text": [
      "[[[ 0  1  2]\n",
      "  [ 3  4  5]]\n",
      "\n",
      " [[ 6  7  8]\n",
      "  [ 9 10 11]]]\n"
     ]
    }
   ],
   "source": [
    "data_3D = np.arange(12).reshape(2,2,3)\n",
    "print(data_3D)"
   ]
  },
  {
   "cell_type": "markdown",
   "metadata": {},
   "source": [
    "### With no additional arguments:"
   ]
  },
  {
   "cell_type": "code",
   "execution_count": 3,
   "metadata": {
    "scrolled": true
   },
   "outputs": [
    {
     "name": "stdout",
     "output_type": "stream",
     "text": [
      "36\n"
     ]
    }
   ],
   "source": [
    "print(np.sum(data_2D))"
   ]
  },
  {
   "cell_type": "code",
   "execution_count": 4,
   "metadata": {},
   "outputs": [
    {
     "name": "stdout",
     "output_type": "stream",
     "text": [
      "66\n"
     ]
    }
   ],
   "source": [
    "print(np.sum(data_3D))"
   ]
  },
  {
   "cell_type": "markdown",
   "metadata": {},
   "source": [
    "### Specifying an axis:"
   ]
  },
  {
   "cell_type": "markdown",
   "metadata": {},
   "source": [
    "2D"
   ]
  },
  {
   "cell_type": "code",
   "execution_count": 5,
   "metadata": {},
   "outputs": [
    {
     "name": "stdout",
     "output_type": "stream",
     "text": [
      "[ 9 12 15]\n"
     ]
    }
   ],
   "source": [
    "# Sum along Columns\n",
    "print(np.sum(data_2D, 0))"
   ]
  },
  {
   "cell_type": "code",
   "execution_count": 6,
   "metadata": {},
   "outputs": [
    {
     "name": "stdout",
     "output_type": "stream",
     "text": [
      "[ 3 12 21]\n"
     ]
    }
   ],
   "source": [
    "# Sum along Rows\n",
    "print(np.sum(data_2D, 1))"
   ]
  },
  {
   "cell_type": "markdown",
   "metadata": {},
   "source": [
    "3D"
   ]
  },
  {
   "cell_type": "code",
   "execution_count": 7,
   "metadata": {},
   "outputs": [
    {
     "name": "stdout",
     "output_type": "stream",
     "text": [
      "[[ 6  8 10]\n",
      " [12 14 16]]\n"
     ]
    }
   ],
   "source": [
    "# Sum all Slabs\n",
    "print(np.sum(data_3D, 0))"
   ]
  },
  {
   "cell_type": "code",
   "execution_count": 8,
   "metadata": {},
   "outputs": [
    {
     "name": "stdout",
     "output_type": "stream",
     "text": [
      "[[ 3  5  7]\n",
      " [15 17 19]]\n"
     ]
    }
   ],
   "source": [
    "# Sum along columns, so each 2D slab becomes a 1D array\n",
    "print(np.sum(data_3D, 1))"
   ]
  },
  {
   "cell_type": "code",
   "execution_count": 9,
   "metadata": {},
   "outputs": [
    {
     "name": "stdout",
     "output_type": "stream",
     "text": [
      "[[ 3 12]\n",
      " [21 30]]\n"
     ]
    }
   ],
   "source": [
    "# Ditto but with rows\n",
    "print(np.sum(data_3D, 2))"
   ]
  },
  {
   "cell_type": "markdown",
   "metadata": {},
   "source": [
    "## Trying the other functions"
   ]
  },
  {
   "cell_type": "code",
   "execution_count": 10,
   "metadata": {
    "scrolled": true
   },
   "outputs": [
    {
     "name": "stdout",
     "output_type": "stream",
     "text": [
      "[[8 4 3]\n",
      " [6 5 1]\n",
      " [0 2 7]]\n"
     ]
    }
   ],
   "source": [
    "# Scramble the array of numbers from 0-9\n",
    "test_2D = np.arange(9)\n",
    "np.random.shuffle(test_2D)\n",
    "test_2D = np.reshape(test_2D, (3,3))\n",
    "print(test_2D)"
   ]
  },
  {
   "cell_type": "code",
   "execution_count": 11,
   "metadata": {},
   "outputs": [
    {
     "name": "stdout",
     "output_type": "stream",
     "text": [
      "[[[11  4  6]\n",
      "  [ 3  9 10]]\n",
      "\n",
      " [[ 7  2  8]\n",
      "  [ 0  1  5]]]\n"
     ]
    }
   ],
   "source": [
    "test_3D = np.arange(12)\n",
    "np.random.shuffle(test_3D)\n",
    "test_3D = np.reshape(test_3D, (2,2,3))\n",
    "print(test_3D)"
   ]
  },
  {
   "cell_type": "code",
   "execution_count": 12,
   "metadata": {},
   "outputs": [
    {
     "name": "stdout",
     "output_type": "stream",
     "text": [
      "4.0\n"
     ]
    }
   ],
   "source": [
    "print(np.mean(test_2D))"
   ]
  },
  {
   "cell_type": "code",
   "execution_count": 13,
   "metadata": {},
   "outputs": [
    {
     "name": "stdout",
     "output_type": "stream",
     "text": [
      "[ 4.66666667  3.66666667  3.66666667]\n"
     ]
    }
   ],
   "source": [
    "print(np.mean(test_2D,0))"
   ]
  },
  {
   "cell_type": "code",
   "execution_count": 14,
   "metadata": {},
   "outputs": [
    {
     "name": "stdout",
     "output_type": "stream",
     "text": [
      "[ 3.39934634  1.24721913  2.49443826]\n"
     ]
    }
   ],
   "source": [
    "print(np.std(test_2D,0))"
   ]
  },
  {
   "cell_type": "code",
   "execution_count": 15,
   "metadata": {},
   "outputs": [
    {
     "name": "stdout",
     "output_type": "stream",
     "text": [
      "[[ 9.   3.   7. ]\n",
      " [ 1.5  5.   7.5]]\n"
     ]
    }
   ],
   "source": [
    "print(np.mean(test_3D,0))"
   ]
  },
  {
   "cell_type": "markdown",
   "metadata": {},
   "source": [
    "## Now you try it\n",
    "### Play around with both 2D and 3D data"
   ]
  },
  {
   "cell_type": "code",
   "execution_count": null,
   "metadata": {},
   "outputs": [],
   "source": []
  }
 ],
 "metadata": {
  "kernelspec": {
   "display_name": "Python 3",
   "language": "python",
   "name": "python3"
  },
  "language_info": {
   "codemirror_mode": {
    "name": "ipython",
    "version": 3
   },
   "file_extension": ".py",
   "mimetype": "text/x-python",
   "name": "python",
   "nbconvert_exporter": "python",
   "pygments_lexer": "ipython3",
   "version": "3.6.3"
  }
 },
 "nbformat": 4,
 "nbformat_minor": 2
}
