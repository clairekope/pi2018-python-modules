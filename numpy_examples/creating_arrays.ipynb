{
 "cells": [
  {
   "cell_type": "markdown",
   "metadata": {},
   "source": [
    "# Common ways of creating arrays"
   ]
  },
  {
   "cell_type": "code",
   "execution_count": 1,
   "metadata": {},
   "outputs": [],
   "source": [
    "import numpy as np"
   ]
  },
  {
   "cell_type": "markdown",
   "metadata": {},
   "source": [
    "### From existing data"
   ]
  },
  {
   "cell_type": "code",
   "execution_count": 3,
   "metadata": {},
   "outputs": [
    {
     "name": "stdout",
     "output_type": "stream",
     "text": [
      "[  7.21  80.     9.5    3.    11.    93.7 ]\n"
     ]
    }
   ],
   "source": [
    "data_1D = np.array([7.21,80,9.5,3,11,93.7])\n",
    "print(data_1D)"
   ]
  },
  {
   "cell_type": "code",
   "execution_count": 5,
   "metadata": {},
   "outputs": [
    {
     "name": "stdout",
     "output_type": "stream",
     "text": [
      "[[  5.    6.8   9. ]\n",
      " [ 10.    3.    4.5]\n",
      " [  8.1   2.   13. ]]\n"
     ]
    }
   ],
   "source": [
    "data_2D = np.array([ [5,6.8,9], [10,3,4.5], [8.1,2,13] ])\n",
    "print(data_2D)"
   ]
  },
  {
   "cell_type": "markdown",
   "metadata": {},
   "source": [
    "### All ones or zeros"
   ]
  },
  {
   "cell_type": "code",
   "execution_count": 6,
   "metadata": {},
   "outputs": [
    {
     "name": "stdout",
     "output_type": "stream",
     "text": [
      "[ 1.  1.  1.  1.  1.  1.  1.  1.  1.  1.  1.  1.  1.  1.  1.]\n"
     ]
    }
   ],
   "source": [
    "ones_1D = np.ones(15)\n",
    "print(ones_1D)"
   ]
  },
  {
   "cell_type": "code",
   "execution_count": 8,
   "metadata": {
    "scrolled": true
   },
   "outputs": [
    {
     "name": "stdout",
     "output_type": "stream",
     "text": [
      "[[[ 0.  0.  0.]\n",
      "  [ 0.  0.  0.]\n",
      "  [ 0.  0.  0.]]\n",
      "\n",
      " [[ 0.  0.  0.]\n",
      "  [ 0.  0.  0.]\n",
      "  [ 0.  0.  0.]]\n",
      "\n",
      " [[ 0.  0.  0.]\n",
      "  [ 0.  0.  0.]\n",
      "  [ 0.  0.  0.]]]\n"
     ]
    }
   ],
   "source": [
    "zeros_3D = np.zeros( (3,3,3) )\n",
    "print(zeros_3D)"
   ]
  },
  {
   "cell_type": "markdown",
   "metadata": {},
   "source": [
    "### Array of random numbers"
   ]
  },
  {
   "cell_type": "markdown",
   "metadata": {},
   "source": [
    "Sample a uniform distribution between 0 and 1"
   ]
  },
  {
   "cell_type": "code",
   "execution_count": 25,
   "metadata": {},
   "outputs": [
    {
     "name": "stdout",
     "output_type": "stream",
     "text": [
      "[[ 0.78096421  0.26805973  0.2460926 ]\n",
      " [ 0.58141486  0.27697552  0.58434393]\n",
      " [ 0.57067294  0.07064347  0.72981669]]\n"
     ]
    }
   ],
   "source": [
    "print(np.random.rand(3,3))"
   ]
  },
  {
   "cell_type": "markdown",
   "metadata": {},
   "source": [
    "Sample the standard normal distribution"
   ]
  },
  {
   "cell_type": "code",
   "execution_count": 26,
   "metadata": {},
   "outputs": [
    {
     "name": "stdout",
     "output_type": "stream",
     "text": [
      "[[-0.74564529 -0.15896728  1.09956378]\n",
      " [ 0.18371958  1.17173988  0.28360414]\n",
      " [-0.38484171  1.22322165 -1.37982966]]\n"
     ]
    }
   ],
   "source": [
    "print(np.random.randn(3,3))"
   ]
  },
  {
   "cell_type": "markdown",
   "metadata": {},
   "source": [
    "### Using `arange` and `linspace`"
   ]
  },
  {
   "cell_type": "markdown",
   "metadata": {},
   "source": [
    "`np.arange` can take 1, 2, or 3 arguments"
   ]
  },
  {
   "cell_type": "code",
   "execution_count": 9,
   "metadata": {},
   "outputs": [
    {
     "name": "stdout",
     "output_type": "stream",
     "text": [
      "[0 1 2 3 4 5 6 7 8 9]\n"
     ]
    }
   ],
   "source": [
    "print(np.arange(10))"
   ]
  },
  {
   "cell_type": "code",
   "execution_count": 10,
   "metadata": {},
   "outputs": [
    {
     "name": "stdout",
     "output_type": "stream",
     "text": [
      "[5 6 7 8 9]\n"
     ]
    }
   ],
   "source": [
    "print(np.arange(5,10))"
   ]
  },
  {
   "cell_type": "code",
   "execution_count": 13,
   "metadata": {},
   "outputs": [
    {
     "name": "stdout",
     "output_type": "stream",
     "text": [
      "[1 4 7]\n"
     ]
    }
   ],
   "source": [
    "print(np.arange(1,10,3))"
   ]
  },
  {
   "cell_type": "markdown",
   "metadata": {},
   "source": [
    "We can also count backwards:"
   ]
  },
  {
   "cell_type": "code",
   "execution_count": 18,
   "metadata": {},
   "outputs": [
    {
     "name": "stdout",
     "output_type": "stream",
     "text": [
      "[10  7  4]\n"
     ]
    }
   ],
   "source": [
    "print(np.arange(10,1,-3))"
   ]
  },
  {
   "cell_type": "markdown",
   "metadata": {},
   "source": [
    "`np.linspace` must take at least 2 arguments, but will also accept a third."
   ]
  },
  {
   "cell_type": "code",
   "execution_count": 16,
   "metadata": {},
   "outputs": [
    {
     "name": "stdout",
     "output_type": "stream",
     "text": [
      "[ 10.          10.20408163  10.40816327  10.6122449   10.81632653\n",
      "  11.02040816  11.2244898   11.42857143  11.63265306  11.83673469\n",
      "  12.04081633  12.24489796  12.44897959  12.65306122  12.85714286\n",
      "  13.06122449  13.26530612  13.46938776  13.67346939  13.87755102\n",
      "  14.08163265  14.28571429  14.48979592  14.69387755  14.89795918\n",
      "  15.10204082  15.30612245  15.51020408  15.71428571  15.91836735\n",
      "  16.12244898  16.32653061  16.53061224  16.73469388  16.93877551\n",
      "  17.14285714  17.34693878  17.55102041  17.75510204  17.95918367\n",
      "  18.16326531  18.36734694  18.57142857  18.7755102   18.97959184\n",
      "  19.18367347  19.3877551   19.59183673  19.79591837  20.        ]\n",
      "Size: 50\n"
     ]
    }
   ],
   "source": [
    "l = np.linspace(10,20)\n",
    "print(l)\n",
    "print(\"Size:\", l.size)"
   ]
  },
  {
   "cell_type": "code",
   "execution_count": 17,
   "metadata": {},
   "outputs": [
    {
     "name": "stdout",
     "output_type": "stream",
     "text": [
      "[ 10.          10.34482759  10.68965517  11.03448276  11.37931034\n",
      "  11.72413793  12.06896552  12.4137931   12.75862069  13.10344828\n",
      "  13.44827586  13.79310345  14.13793103  14.48275862  14.82758621\n",
      "  15.17241379  15.51724138  15.86206897  16.20689655  16.55172414\n",
      "  16.89655172  17.24137931  17.5862069   17.93103448  18.27586207\n",
      "  18.62068966  18.96551724  19.31034483  19.65517241  20.        ]\n",
      "Size: 30\n"
     ]
    }
   ],
   "source": [
    "l = np.linspace(10,20,30)\n",
    "print(l)\n",
    "print(\"Size:\", l.size)"
   ]
  },
  {
   "cell_type": "markdown",
   "metadata": {},
   "source": [
    "`linspace` will also run backwards:"
   ]
  },
  {
   "cell_type": "code",
   "execution_count": 20,
   "metadata": {},
   "outputs": [
    {
     "name": "stdout",
     "output_type": "stream",
     "text": [
      "[ 20.          19.65517241  19.31034483  18.96551724  18.62068966\n",
      "  18.27586207  17.93103448  17.5862069   17.24137931  16.89655172\n",
      "  16.55172414  16.20689655  15.86206897  15.51724138  15.17241379\n",
      "  14.82758621  14.48275862  14.13793103  13.79310345  13.44827586\n",
      "  13.10344828  12.75862069  12.4137931   12.06896552  11.72413793\n",
      "  11.37931034  11.03448276  10.68965517  10.34482759  10.        ]\n"
     ]
    }
   ],
   "source": [
    "print(np.linspace(20,10,30))"
   ]
  }
 ],
 "metadata": {
  "kernelspec": {
   "display_name": "Python 3",
   "language": "python",
   "name": "python3"
  },
  "language_info": {
   "codemirror_mode": {
    "name": "ipython",
    "version": 3
   },
   "file_extension": ".py",
   "mimetype": "text/x-python",
   "name": "python",
   "nbconvert_exporter": "python",
   "pygments_lexer": "ipython3",
   "version": "3.6.3"
  }
 },
 "nbformat": 4,
 "nbformat_minor": 2
}
